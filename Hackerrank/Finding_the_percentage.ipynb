{
  "nbformat": 4,
  "nbformat_minor": 0,
  "metadata": {
    "colab": {
      "name": "Finding_the_percentage.ipynb",
      "provenance": []
    },
    "kernelspec": {
      "name": "python3",
      "display_name": "Python 3"
    }
  },
  "cells": [
    {
      "cell_type": "code",
      "metadata": {
        "id": "kVx36R_JRiky"
      },
      "source": [
        "if __name__ == '__main__':\n",
        "    n = int(input())\n",
        "    student_marks = {}\n",
        "    for _ in range(n):\n",
        "        name, *line = input().split()\n",
        "        scores = list(map(float, line))\n",
        "        student_marks[name] = scores\n",
        "    query_name = input()\n",
        "    a=0\n",
        "    for i in name:\n",
        "      if(query_name==name):\n",
        "        count = i\n",
        "        break\n",
        "      a=a+1\n",
        "    marks = student_marks[query_name]\n",
        "    avg =0\n",
        "    for i in range(0,3):\n",
        "      avg = avg+marks[i]\n",
        "    avg = avg/3\n",
        "    print('%.2f'%avg)    \n"
      ],
      "execution_count": null,
      "outputs": []
    }
  ]
}